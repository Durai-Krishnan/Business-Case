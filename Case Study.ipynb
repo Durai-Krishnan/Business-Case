{
 "cells": [
  {
   "cell_type": "code",
   "execution_count": 59,
   "metadata": {},
   "outputs": [],
   "source": [
    "import pandas as pd\n",
    "import numpy as np\n",
    "import matplotlib.pyplot as plt\n",
    "import seaborn as sns"
   ]
  },
  {
   "cell_type": "code",
   "execution_count": 60,
   "metadata": {},
   "outputs": [],
   "source": [
    "df=pd.read_excel('casestudy.xlsx')"
   ]
  },
  {
   "cell_type": "code",
   "execution_count": 61,
   "metadata": {},
   "outputs": [
    {
     "name": "stdout",
     "output_type": "stream",
     "text": [
      "<class 'pandas.core.frame.DataFrame'>\n",
      "RangeIndex: 2290 entries, 0 to 2289\n",
      "Data columns (total 52 columns):\n",
      " #   Column                 Non-Null Count  Dtype         \n",
      "---  ------                 --------------  -----         \n",
      " 0   Client_Name            2290 non-null   object        \n",
      " 1   Building               2290 non-null   object        \n",
      " 2   Group                  2290 non-null   object        \n",
      " 3   Floor                  2290 non-null   object        \n",
      " 4   Date-Time              2290 non-null   datetime64[ns]\n",
      " 5   Date                   2290 non-null   datetime64[ns]\n",
      " 6   Time                   2290 non-null   object        \n",
      " 7   vfdbtu                 2290 non-null   int64         \n",
      " 8   BTU                    2290 non-null   int64         \n",
      " 9   vfdfilterstatus        2290 non-null   int64         \n",
      " 10  vfdfrequency           2290 non-null   int64         \n",
      " 11  vfdfreshairvalve       2290 non-null   int64         \n",
      " 12  vfdmaxflowrateset      2290 non-null   float64       \n",
      " 13  vfdmaxfrequency        2290 non-null   int64         \n",
      " 14  vfdminfrequency        2290 non-null   int64         \n",
      " 15  Mode                   2290 non-null   object        \n",
      " 16  VFD ON/OFF SOURCE      2290 non-null   object        \n",
      " 17  vfdpower               2290 non-null   float64       \n",
      " 18  vfdreturnair           2290 non-null   float64       \n",
      " 19  vfdscheduleofftime     2290 non-null   object        \n",
      " 20  vfdscheduleontime      2290 non-null   object        \n",
      " 21  vfdschedulestatus      2290 non-null   int64         \n",
      " 22  vfdsettemp             2290 non-null   int64         \n",
      " 23  vfdstatus              2290 non-null   int64         \n",
      " 24  vfdsupplyair           2290 non-null   int64         \n",
      " 25  vfdwaterdeltatset      2290 non-null   int64         \n",
      " 26  vfdwaterflow           2290 non-null   int64         \n",
      " 27  vfdwaterin             2290 non-null   float64       \n",
      " 28  vfdwaterout            2290 non-null   float64       \n",
      " 29  vfdwatervalveposition  2290 non-null   int64         \n",
      " 30  AHU Capacity(TR)       2290 non-null   float64       \n",
      " 31  vavambtemp_1           2290 non-null   float64       \n",
      " 32  vavambtemp_2           2290 non-null   float64       \n",
      " 33  vavambtemp_3           2290 non-null   float64       \n",
      " 34  vavdamperposition_1    2290 non-null   int64         \n",
      " 35  vavdamperposition_2    2290 non-null   int64         \n",
      " 36  vavdamperposition_3    2290 non-null   int64         \n",
      " 37  vavonoffsource_1       2290 non-null   object        \n",
      " 38  vavonoffsource_2       2290 non-null   object        \n",
      " 39  vavonoffsource_3       2290 non-null   object        \n",
      " 40  vavpirstatus_1         2290 non-null   object        \n",
      " 41  vavpirstatus_2         2290 non-null   object        \n",
      " 42  vavpirstatus_3         2290 non-null   object        \n",
      " 43  vavsettemp_1           2290 non-null   float64       \n",
      " 44  vavsettemp_2           2290 non-null   int64         \n",
      " 45  vavsettemp_3           2290 non-null   int64         \n",
      " 46  vavstatus_1            2290 non-null   object        \n",
      " 47  vavstatus_2            2290 non-null   object        \n",
      " 48  vavstatus_3            2290 non-null   object        \n",
      " 49  vavsettempsource_1     2290 non-null   object        \n",
      " 50  vavsettempsource_2     2290 non-null   object        \n",
      " 51  vavsettempsource_3     2290 non-null   object        \n",
      "dtypes: datetime64[ns](2), float64(10), int64(19), object(21)\n",
      "memory usage: 930.4+ KB\n"
     ]
    }
   ],
   "source": [
    "df.info()"
   ]
  },
  {
   "cell_type": "code",
   "execution_count": 62,
   "metadata": {},
   "outputs": [
    {
     "data": {
      "text/html": [
       "<div>\n",
       "<style scoped>\n",
       "    .dataframe tbody tr th:only-of-type {\n",
       "        vertical-align: middle;\n",
       "    }\n",
       "\n",
       "    .dataframe tbody tr th {\n",
       "        vertical-align: top;\n",
       "    }\n",
       "\n",
       "    .dataframe thead th {\n",
       "        text-align: right;\n",
       "    }\n",
       "</style>\n",
       "<table border=\"1\" class=\"dataframe\">\n",
       "  <thead>\n",
       "    <tr style=\"text-align: right;\">\n",
       "      <th></th>\n",
       "      <th>Client_Name</th>\n",
       "      <th>Building</th>\n",
       "      <th>Group</th>\n",
       "      <th>Floor</th>\n",
       "      <th>Date-Time</th>\n",
       "      <th>Date</th>\n",
       "      <th>Time</th>\n",
       "      <th>vfdbtu</th>\n",
       "      <th>BTU</th>\n",
       "      <th>vfdfilterstatus</th>\n",
       "      <th>...</th>\n",
       "      <th>vavpirstatus_3</th>\n",
       "      <th>vavsettemp_1</th>\n",
       "      <th>vavsettemp_2</th>\n",
       "      <th>vavsettemp_3</th>\n",
       "      <th>vavstatus_1</th>\n",
       "      <th>vavstatus_2</th>\n",
       "      <th>vavstatus_3</th>\n",
       "      <th>vavsettempsource_1</th>\n",
       "      <th>vavsettempsource_2</th>\n",
       "      <th>vavsettempsource_3</th>\n",
       "    </tr>\n",
       "  </thead>\n",
       "  <tbody>\n",
       "    <tr>\n",
       "      <th>0</th>\n",
       "      <td>Office1</td>\n",
       "      <td>IITMRPP1</td>\n",
       "      <td>IITMRP</td>\n",
       "      <td>Floor-3</td>\n",
       "      <td>2021-01-01 08:45:00</td>\n",
       "      <td>2021-01-01</td>\n",
       "      <td>08:45:00</td>\n",
       "      <td>556316</td>\n",
       "      <td>0</td>\n",
       "      <td>0</td>\n",
       "      <td>...</td>\n",
       "      <td>PIR Enable occupied</td>\n",
       "      <td>23.0</td>\n",
       "      <td>23</td>\n",
       "      <td>23</td>\n",
       "      <td>ON</td>\n",
       "      <td>ON</td>\n",
       "      <td>ON</td>\n",
       "      <td>No input</td>\n",
       "      <td>No input</td>\n",
       "      <td>No input</td>\n",
       "    </tr>\n",
       "    <tr>\n",
       "      <th>1</th>\n",
       "      <td>Office1</td>\n",
       "      <td>IITMRPP1</td>\n",
       "      <td>IITMRP</td>\n",
       "      <td>Floor-3</td>\n",
       "      <td>2021-01-01 09:00:00</td>\n",
       "      <td>2021-01-01</td>\n",
       "      <td>09:00:00</td>\n",
       "      <td>556316</td>\n",
       "      <td>0</td>\n",
       "      <td>0</td>\n",
       "      <td>...</td>\n",
       "      <td>PIR Enable occupied</td>\n",
       "      <td>23.0</td>\n",
       "      <td>23</td>\n",
       "      <td>23</td>\n",
       "      <td>OFF</td>\n",
       "      <td>ON</td>\n",
       "      <td>ON</td>\n",
       "      <td>No input</td>\n",
       "      <td>No input</td>\n",
       "      <td>No input</td>\n",
       "    </tr>\n",
       "    <tr>\n",
       "      <th>2</th>\n",
       "      <td>Office1</td>\n",
       "      <td>IITMRPP1</td>\n",
       "      <td>IITMRP</td>\n",
       "      <td>Floor-3</td>\n",
       "      <td>2021-01-01 09:15:00</td>\n",
       "      <td>2021-01-01</td>\n",
       "      <td>09:15:00</td>\n",
       "      <td>556318</td>\n",
       "      <td>2</td>\n",
       "      <td>0</td>\n",
       "      <td>...</td>\n",
       "      <td>PIR Enable occupied</td>\n",
       "      <td>23.0</td>\n",
       "      <td>23</td>\n",
       "      <td>23</td>\n",
       "      <td>OFF</td>\n",
       "      <td>ON</td>\n",
       "      <td>ON</td>\n",
       "      <td>No input</td>\n",
       "      <td>No input</td>\n",
       "      <td>No input</td>\n",
       "    </tr>\n",
       "    <tr>\n",
       "      <th>3</th>\n",
       "      <td>Office1</td>\n",
       "      <td>IITMRPP1</td>\n",
       "      <td>IITMRP</td>\n",
       "      <td>Floor-3</td>\n",
       "      <td>2021-01-01 09:30:00</td>\n",
       "      <td>2021-01-01</td>\n",
       "      <td>09:30:00</td>\n",
       "      <td>556329</td>\n",
       "      <td>11</td>\n",
       "      <td>0</td>\n",
       "      <td>...</td>\n",
       "      <td>PIR Enable occupied</td>\n",
       "      <td>23.0</td>\n",
       "      <td>23</td>\n",
       "      <td>23</td>\n",
       "      <td>OFF</td>\n",
       "      <td>ON</td>\n",
       "      <td>ON</td>\n",
       "      <td>No input</td>\n",
       "      <td>No input</td>\n",
       "      <td>No input</td>\n",
       "    </tr>\n",
       "    <tr>\n",
       "      <th>4</th>\n",
       "      <td>Office1</td>\n",
       "      <td>IITMRPP1</td>\n",
       "      <td>IITMRP</td>\n",
       "      <td>Floor-3</td>\n",
       "      <td>2021-01-01 09:45:00</td>\n",
       "      <td>2021-01-01</td>\n",
       "      <td>09:45:00</td>\n",
       "      <td>556341</td>\n",
       "      <td>12</td>\n",
       "      <td>0</td>\n",
       "      <td>...</td>\n",
       "      <td>PIR Enable occupied</td>\n",
       "      <td>23.0</td>\n",
       "      <td>23</td>\n",
       "      <td>23</td>\n",
       "      <td>OFF</td>\n",
       "      <td>ON</td>\n",
       "      <td>ON</td>\n",
       "      <td>No input</td>\n",
       "      <td>No input</td>\n",
       "      <td>No input</td>\n",
       "    </tr>\n",
       "  </tbody>\n",
       "</table>\n",
       "<p>5 rows × 52 columns</p>\n",
       "</div>"
      ],
      "text/plain": [
       "  Client_Name  Building   Group    Floor           Date-Time       Date  \\\n",
       "0     Office1  IITMRPP1  IITMRP  Floor-3 2021-01-01 08:45:00 2021-01-01   \n",
       "1     Office1  IITMRPP1  IITMRP  Floor-3 2021-01-01 09:00:00 2021-01-01   \n",
       "2     Office1  IITMRPP1  IITMRP  Floor-3 2021-01-01 09:15:00 2021-01-01   \n",
       "3     Office1  IITMRPP1  IITMRP  Floor-3 2021-01-01 09:30:00 2021-01-01   \n",
       "4     Office1  IITMRPP1  IITMRP  Floor-3 2021-01-01 09:45:00 2021-01-01   \n",
       "\n",
       "       Time  vfdbtu  BTU  vfdfilterstatus  ...       vavpirstatus_3  \\\n",
       "0  08:45:00  556316    0                0  ...  PIR Enable occupied   \n",
       "1  09:00:00  556316    0                0  ...  PIR Enable occupied   \n",
       "2  09:15:00  556318    2                0  ...  PIR Enable occupied   \n",
       "3  09:30:00  556329   11                0  ...  PIR Enable occupied   \n",
       "4  09:45:00  556341   12                0  ...  PIR Enable occupied   \n",
       "\n",
       "   vavsettemp_1  vavsettemp_2  vavsettemp_3  vavstatus_1 vavstatus_2  \\\n",
       "0          23.0            23            23           ON          ON   \n",
       "1          23.0            23            23          OFF          ON   \n",
       "2          23.0            23            23          OFF          ON   \n",
       "3          23.0            23            23          OFF          ON   \n",
       "4          23.0            23            23          OFF          ON   \n",
       "\n",
       "  vavstatus_3  vavsettempsource_1  vavsettempsource_2 vavsettempsource_3  \n",
       "0          ON            No input            No input           No input  \n",
       "1          ON            No input            No input           No input  \n",
       "2          ON            No input            No input           No input  \n",
       "3          ON            No input            No input           No input  \n",
       "4          ON            No input            No input           No input  \n",
       "\n",
       "[5 rows x 52 columns]"
      ]
     },
     "execution_count": 62,
     "metadata": {},
     "output_type": "execute_result"
    }
   ],
   "source": [
    "df.head()"
   ]
  },
  {
   "cell_type": "code",
   "execution_count": 63,
   "metadata": {},
   "outputs": [
    {
     "data": {
      "text/plain": [
       "(2290, 52)"
      ]
     },
     "execution_count": 63,
     "metadata": {},
     "output_type": "execute_result"
    }
   ],
   "source": [
    "df.shape"
   ]
  },
  {
   "cell_type": "code",
   "execution_count": 64,
   "metadata": {},
   "outputs": [
    {
     "data": {
      "text/html": [
       "<div>\n",
       "<style scoped>\n",
       "    .dataframe tbody tr th:only-of-type {\n",
       "        vertical-align: middle;\n",
       "    }\n",
       "\n",
       "    .dataframe tbody tr th {\n",
       "        vertical-align: top;\n",
       "    }\n",
       "\n",
       "    .dataframe thead th {\n",
       "        text-align: right;\n",
       "    }\n",
       "</style>\n",
       "<table border=\"1\" class=\"dataframe\">\n",
       "  <thead>\n",
       "    <tr style=\"text-align: right;\">\n",
       "      <th></th>\n",
       "      <th>vfdbtu</th>\n",
       "      <th>BTU</th>\n",
       "      <th>vfdfilterstatus</th>\n",
       "      <th>vfdfrequency</th>\n",
       "      <th>vfdfreshairvalve</th>\n",
       "      <th>vfdmaxflowrateset</th>\n",
       "      <th>vfdmaxfrequency</th>\n",
       "      <th>vfdminfrequency</th>\n",
       "      <th>vfdpower</th>\n",
       "      <th>vfdreturnair</th>\n",
       "      <th>...</th>\n",
       "      <th>AHU Capacity(TR)</th>\n",
       "      <th>vavambtemp_1</th>\n",
       "      <th>vavambtemp_2</th>\n",
       "      <th>vavambtemp_3</th>\n",
       "      <th>vavdamperposition_1</th>\n",
       "      <th>vavdamperposition_2</th>\n",
       "      <th>vavdamperposition_3</th>\n",
       "      <th>vavsettemp_1</th>\n",
       "      <th>vavsettemp_2</th>\n",
       "      <th>vavsettemp_3</th>\n",
       "    </tr>\n",
       "  </thead>\n",
       "  <tbody>\n",
       "    <tr>\n",
       "      <th>count</th>\n",
       "      <td>2290.000000</td>\n",
       "      <td>2290.000000</td>\n",
       "      <td>2290.0</td>\n",
       "      <td>2290.000000</td>\n",
       "      <td>2290.000000</td>\n",
       "      <td>2290.0</td>\n",
       "      <td>2290.0</td>\n",
       "      <td>2290.000000</td>\n",
       "      <td>2290.000000</td>\n",
       "      <td>2290.000000</td>\n",
       "      <td>...</td>\n",
       "      <td>2290.0</td>\n",
       "      <td>2290.000000</td>\n",
       "      <td>2290.000000</td>\n",
       "      <td>2290.000000</td>\n",
       "      <td>2290.000000</td>\n",
       "      <td>2290.000000</td>\n",
       "      <td>2290.000000</td>\n",
       "      <td>2290.000000</td>\n",
       "      <td>2290.000000</td>\n",
       "      <td>2290.0</td>\n",
       "    </tr>\n",
       "    <tr>\n",
       "      <th>mean</th>\n",
       "      <td>563034.303930</td>\n",
       "      <td>5.919651</td>\n",
       "      <td>0.0</td>\n",
       "      <td>36.972489</td>\n",
       "      <td>10.438865</td>\n",
       "      <td>2.5</td>\n",
       "      <td>50.0</td>\n",
       "      <td>37.180786</td>\n",
       "      <td>1.634908</td>\n",
       "      <td>24.005428</td>\n",
       "      <td>...</td>\n",
       "      <td>19.5</td>\n",
       "      <td>24.625197</td>\n",
       "      <td>24.451310</td>\n",
       "      <td>25.018865</td>\n",
       "      <td>9.104803</td>\n",
       "      <td>49.938865</td>\n",
       "      <td>59.358079</td>\n",
       "      <td>23.327074</td>\n",
       "      <td>23.130131</td>\n",
       "      <td>23.0</td>\n",
       "    </tr>\n",
       "    <tr>\n",
       "      <th>std</th>\n",
       "      <td>3005.521093</td>\n",
       "      <td>4.771640</td>\n",
       "      <td>0.0</td>\n",
       "      <td>15.359437</td>\n",
       "      <td>10.578751</td>\n",
       "      <td>0.0</td>\n",
       "      <td>0.0</td>\n",
       "      <td>1.045733</td>\n",
       "      <td>0.716896</td>\n",
       "      <td>0.988936</td>\n",
       "      <td>...</td>\n",
       "      <td>0.0</td>\n",
       "      <td>0.871909</td>\n",
       "      <td>1.075807</td>\n",
       "      <td>1.553323</td>\n",
       "      <td>25.050973</td>\n",
       "      <td>32.427568</td>\n",
       "      <td>36.936868</td>\n",
       "      <td>1.176258</td>\n",
       "      <td>0.707947</td>\n",
       "      <td>0.0</td>\n",
       "    </tr>\n",
       "    <tr>\n",
       "      <th>min</th>\n",
       "      <td>556316.000000</td>\n",
       "      <td>0.000000</td>\n",
       "      <td>0.0</td>\n",
       "      <td>0.000000</td>\n",
       "      <td>0.000000</td>\n",
       "      <td>2.5</td>\n",
       "      <td>50.0</td>\n",
       "      <td>34.000000</td>\n",
       "      <td>0.000000</td>\n",
       "      <td>21.680000</td>\n",
       "      <td>...</td>\n",
       "      <td>19.5</td>\n",
       "      <td>22.400000</td>\n",
       "      <td>21.700000</td>\n",
       "      <td>22.000000</td>\n",
       "      <td>0.000000</td>\n",
       "      <td>0.000000</td>\n",
       "      <td>0.000000</td>\n",
       "      <td>23.000000</td>\n",
       "      <td>23.000000</td>\n",
       "      <td>23.0</td>\n",
       "    </tr>\n",
       "    <tr>\n",
       "      <th>25%</th>\n",
       "      <td>560859.250000</td>\n",
       "      <td>3.000000</td>\n",
       "      <td>0.0</td>\n",
       "      <td>40.000000</td>\n",
       "      <td>0.000000</td>\n",
       "      <td>2.5</td>\n",
       "      <td>50.0</td>\n",
       "      <td>36.000000</td>\n",
       "      <td>1.560000</td>\n",
       "      <td>23.370000</td>\n",
       "      <td>...</td>\n",
       "      <td>19.5</td>\n",
       "      <td>24.000000</td>\n",
       "      <td>23.800000</td>\n",
       "      <td>24.000000</td>\n",
       "      <td>0.000000</td>\n",
       "      <td>30.000000</td>\n",
       "      <td>30.000000</td>\n",
       "      <td>23.000000</td>\n",
       "      <td>23.000000</td>\n",
       "      <td>23.0</td>\n",
       "    </tr>\n",
       "    <tr>\n",
       "      <th>50%</th>\n",
       "      <td>564096.500000</td>\n",
       "      <td>5.000000</td>\n",
       "      <td>0.0</td>\n",
       "      <td>43.000000</td>\n",
       "      <td>10.000000</td>\n",
       "      <td>2.5</td>\n",
       "      <td>50.0</td>\n",
       "      <td>38.000000</td>\n",
       "      <td>1.860000</td>\n",
       "      <td>23.790000</td>\n",
       "      <td>...</td>\n",
       "      <td>19.5</td>\n",
       "      <td>24.500000</td>\n",
       "      <td>24.200000</td>\n",
       "      <td>24.700000</td>\n",
       "      <td>0.000000</td>\n",
       "      <td>60.000000</td>\n",
       "      <td>90.000000</td>\n",
       "      <td>23.000000</td>\n",
       "      <td>23.000000</td>\n",
       "      <td>23.0</td>\n",
       "    </tr>\n",
       "    <tr>\n",
       "      <th>75%</th>\n",
       "      <td>565320.750000</td>\n",
       "      <td>9.000000</td>\n",
       "      <td>0.0</td>\n",
       "      <td>45.000000</td>\n",
       "      <td>10.000000</td>\n",
       "      <td>2.5</td>\n",
       "      <td>50.0</td>\n",
       "      <td>38.000000</td>\n",
       "      <td>2.070000</td>\n",
       "      <td>24.520000</td>\n",
       "      <td>...</td>\n",
       "      <td>19.5</td>\n",
       "      <td>25.300000</td>\n",
       "      <td>25.300000</td>\n",
       "      <td>25.700000</td>\n",
       "      <td>0.000000</td>\n",
       "      <td>90.000000</td>\n",
       "      <td>90.000000</td>\n",
       "      <td>23.000000</td>\n",
       "      <td>23.000000</td>\n",
       "      <td>23.0</td>\n",
       "    </tr>\n",
       "    <tr>\n",
       "      <th>max</th>\n",
       "      <td>567163.000000</td>\n",
       "      <td>109.000000</td>\n",
       "      <td>0.0</td>\n",
       "      <td>50.000000</td>\n",
       "      <td>30.000000</td>\n",
       "      <td>2.5</td>\n",
       "      <td>50.0</td>\n",
       "      <td>38.000000</td>\n",
       "      <td>2.670000</td>\n",
       "      <td>26.280000</td>\n",
       "      <td>...</td>\n",
       "      <td>19.5</td>\n",
       "      <td>26.900000</td>\n",
       "      <td>27.600000</td>\n",
       "      <td>28.600000</td>\n",
       "      <td>90.000000</td>\n",
       "      <td>90.000000</td>\n",
       "      <td>90.000000</td>\n",
       "      <td>28.000000</td>\n",
       "      <td>27.000000</td>\n",
       "      <td>23.0</td>\n",
       "    </tr>\n",
       "  </tbody>\n",
       "</table>\n",
       "<p>8 rows × 29 columns</p>\n",
       "</div>"
      ],
      "text/plain": [
       "              vfdbtu          BTU  vfdfilterstatus  vfdfrequency  \\\n",
       "count    2290.000000  2290.000000           2290.0   2290.000000   \n",
       "mean   563034.303930     5.919651              0.0     36.972489   \n",
       "std      3005.521093     4.771640              0.0     15.359437   \n",
       "min    556316.000000     0.000000              0.0      0.000000   \n",
       "25%    560859.250000     3.000000              0.0     40.000000   \n",
       "50%    564096.500000     5.000000              0.0     43.000000   \n",
       "75%    565320.750000     9.000000              0.0     45.000000   \n",
       "max    567163.000000   109.000000              0.0     50.000000   \n",
       "\n",
       "       vfdfreshairvalve  vfdmaxflowrateset  vfdmaxfrequency  vfdminfrequency  \\\n",
       "count       2290.000000             2290.0           2290.0      2290.000000   \n",
       "mean          10.438865                2.5             50.0        37.180786   \n",
       "std           10.578751                0.0              0.0         1.045733   \n",
       "min            0.000000                2.5             50.0        34.000000   \n",
       "25%            0.000000                2.5             50.0        36.000000   \n",
       "50%           10.000000                2.5             50.0        38.000000   \n",
       "75%           10.000000                2.5             50.0        38.000000   \n",
       "max           30.000000                2.5             50.0        38.000000   \n",
       "\n",
       "          vfdpower  vfdreturnair  ...  AHU Capacity(TR)  vavambtemp_1  \\\n",
       "count  2290.000000   2290.000000  ...            2290.0   2290.000000   \n",
       "mean      1.634908     24.005428  ...              19.5     24.625197   \n",
       "std       0.716896      0.988936  ...               0.0      0.871909   \n",
       "min       0.000000     21.680000  ...              19.5     22.400000   \n",
       "25%       1.560000     23.370000  ...              19.5     24.000000   \n",
       "50%       1.860000     23.790000  ...              19.5     24.500000   \n",
       "75%       2.070000     24.520000  ...              19.5     25.300000   \n",
       "max       2.670000     26.280000  ...              19.5     26.900000   \n",
       "\n",
       "       vavambtemp_2  vavambtemp_3  vavdamperposition_1  vavdamperposition_2  \\\n",
       "count   2290.000000   2290.000000          2290.000000          2290.000000   \n",
       "mean      24.451310     25.018865             9.104803            49.938865   \n",
       "std        1.075807      1.553323            25.050973            32.427568   \n",
       "min       21.700000     22.000000             0.000000             0.000000   \n",
       "25%       23.800000     24.000000             0.000000            30.000000   \n",
       "50%       24.200000     24.700000             0.000000            60.000000   \n",
       "75%       25.300000     25.700000             0.000000            90.000000   \n",
       "max       27.600000     28.600000            90.000000            90.000000   \n",
       "\n",
       "       vavdamperposition_3  vavsettemp_1  vavsettemp_2  vavsettemp_3  \n",
       "count          2290.000000   2290.000000   2290.000000        2290.0  \n",
       "mean             59.358079     23.327074     23.130131          23.0  \n",
       "std              36.936868      1.176258      0.707947           0.0  \n",
       "min               0.000000     23.000000     23.000000          23.0  \n",
       "25%              30.000000     23.000000     23.000000          23.0  \n",
       "50%              90.000000     23.000000     23.000000          23.0  \n",
       "75%              90.000000     23.000000     23.000000          23.0  \n",
       "max              90.000000     28.000000     27.000000          23.0  \n",
       "\n",
       "[8 rows x 29 columns]"
      ]
     },
     "execution_count": 64,
     "metadata": {},
     "output_type": "execute_result"
    }
   ],
   "source": [
    "df.describe()"
   ]
  },
  {
   "cell_type": "code",
   "execution_count": 65,
   "metadata": {},
   "outputs": [],
   "source": [
    "time=df['Date-Time'].iloc[0]"
   ]
  },
  {
   "cell_type": "code",
   "execution_count": 66,
   "metadata": {},
   "outputs": [
    {
     "data": {
      "text/plain": [
       "Timestamp('2021-01-01 08:45:00')"
      ]
     },
     "execution_count": 66,
     "metadata": {},
     "output_type": "execute_result"
    }
   ],
   "source": [
    "time"
   ]
  },
  {
   "cell_type": "code",
   "execution_count": 67,
   "metadata": {},
   "outputs": [],
   "source": [
    "df['Month']=df['Date-Time'].apply(lambda time:time.month)"
   ]
  },
  {
   "cell_type": "code",
   "execution_count": 68,
   "metadata": {},
   "outputs": [
    {
     "data": {
      "text/html": [
       "<div>\n",
       "<style scoped>\n",
       "    .dataframe tbody tr th:only-of-type {\n",
       "        vertical-align: middle;\n",
       "    }\n",
       "\n",
       "    .dataframe tbody tr th {\n",
       "        vertical-align: top;\n",
       "    }\n",
       "\n",
       "    .dataframe thead th {\n",
       "        text-align: right;\n",
       "    }\n",
       "</style>\n",
       "<table border=\"1\" class=\"dataframe\">\n",
       "  <thead>\n",
       "    <tr style=\"text-align: right;\">\n",
       "      <th></th>\n",
       "      <th>Client_Name</th>\n",
       "      <th>Building</th>\n",
       "      <th>Group</th>\n",
       "      <th>Floor</th>\n",
       "      <th>Date-Time</th>\n",
       "      <th>Date</th>\n",
       "      <th>Time</th>\n",
       "      <th>vfdbtu</th>\n",
       "      <th>BTU</th>\n",
       "      <th>vfdfilterstatus</th>\n",
       "      <th>...</th>\n",
       "      <th>vavsettemp_1</th>\n",
       "      <th>vavsettemp_2</th>\n",
       "      <th>vavsettemp_3</th>\n",
       "      <th>vavstatus_1</th>\n",
       "      <th>vavstatus_2</th>\n",
       "      <th>vavstatus_3</th>\n",
       "      <th>vavsettempsource_1</th>\n",
       "      <th>vavsettempsource_2</th>\n",
       "      <th>vavsettempsource_3</th>\n",
       "      <th>Month</th>\n",
       "    </tr>\n",
       "  </thead>\n",
       "  <tbody>\n",
       "    <tr>\n",
       "      <th>0</th>\n",
       "      <td>Office1</td>\n",
       "      <td>IITMRPP1</td>\n",
       "      <td>IITMRP</td>\n",
       "      <td>Floor-3</td>\n",
       "      <td>2021-01-01 08:45:00</td>\n",
       "      <td>2021-01-01</td>\n",
       "      <td>08:45:00</td>\n",
       "      <td>556316</td>\n",
       "      <td>0</td>\n",
       "      <td>0</td>\n",
       "      <td>...</td>\n",
       "      <td>23.0</td>\n",
       "      <td>23</td>\n",
       "      <td>23</td>\n",
       "      <td>ON</td>\n",
       "      <td>ON</td>\n",
       "      <td>ON</td>\n",
       "      <td>No input</td>\n",
       "      <td>No input</td>\n",
       "      <td>No input</td>\n",
       "      <td>1</td>\n",
       "    </tr>\n",
       "    <tr>\n",
       "      <th>1</th>\n",
       "      <td>Office1</td>\n",
       "      <td>IITMRPP1</td>\n",
       "      <td>IITMRP</td>\n",
       "      <td>Floor-3</td>\n",
       "      <td>2021-01-01 09:00:00</td>\n",
       "      <td>2021-01-01</td>\n",
       "      <td>09:00:00</td>\n",
       "      <td>556316</td>\n",
       "      <td>0</td>\n",
       "      <td>0</td>\n",
       "      <td>...</td>\n",
       "      <td>23.0</td>\n",
       "      <td>23</td>\n",
       "      <td>23</td>\n",
       "      <td>OFF</td>\n",
       "      <td>ON</td>\n",
       "      <td>ON</td>\n",
       "      <td>No input</td>\n",
       "      <td>No input</td>\n",
       "      <td>No input</td>\n",
       "      <td>1</td>\n",
       "    </tr>\n",
       "    <tr>\n",
       "      <th>2</th>\n",
       "      <td>Office1</td>\n",
       "      <td>IITMRPP1</td>\n",
       "      <td>IITMRP</td>\n",
       "      <td>Floor-3</td>\n",
       "      <td>2021-01-01 09:15:00</td>\n",
       "      <td>2021-01-01</td>\n",
       "      <td>09:15:00</td>\n",
       "      <td>556318</td>\n",
       "      <td>2</td>\n",
       "      <td>0</td>\n",
       "      <td>...</td>\n",
       "      <td>23.0</td>\n",
       "      <td>23</td>\n",
       "      <td>23</td>\n",
       "      <td>OFF</td>\n",
       "      <td>ON</td>\n",
       "      <td>ON</td>\n",
       "      <td>No input</td>\n",
       "      <td>No input</td>\n",
       "      <td>No input</td>\n",
       "      <td>1</td>\n",
       "    </tr>\n",
       "    <tr>\n",
       "      <th>3</th>\n",
       "      <td>Office1</td>\n",
       "      <td>IITMRPP1</td>\n",
       "      <td>IITMRP</td>\n",
       "      <td>Floor-3</td>\n",
       "      <td>2021-01-01 09:30:00</td>\n",
       "      <td>2021-01-01</td>\n",
       "      <td>09:30:00</td>\n",
       "      <td>556329</td>\n",
       "      <td>11</td>\n",
       "      <td>0</td>\n",
       "      <td>...</td>\n",
       "      <td>23.0</td>\n",
       "      <td>23</td>\n",
       "      <td>23</td>\n",
       "      <td>OFF</td>\n",
       "      <td>ON</td>\n",
       "      <td>ON</td>\n",
       "      <td>No input</td>\n",
       "      <td>No input</td>\n",
       "      <td>No input</td>\n",
       "      <td>1</td>\n",
       "    </tr>\n",
       "    <tr>\n",
       "      <th>4</th>\n",
       "      <td>Office1</td>\n",
       "      <td>IITMRPP1</td>\n",
       "      <td>IITMRP</td>\n",
       "      <td>Floor-3</td>\n",
       "      <td>2021-01-01 09:45:00</td>\n",
       "      <td>2021-01-01</td>\n",
       "      <td>09:45:00</td>\n",
       "      <td>556341</td>\n",
       "      <td>12</td>\n",
       "      <td>0</td>\n",
       "      <td>...</td>\n",
       "      <td>23.0</td>\n",
       "      <td>23</td>\n",
       "      <td>23</td>\n",
       "      <td>OFF</td>\n",
       "      <td>ON</td>\n",
       "      <td>ON</td>\n",
       "      <td>No input</td>\n",
       "      <td>No input</td>\n",
       "      <td>No input</td>\n",
       "      <td>1</td>\n",
       "    </tr>\n",
       "  </tbody>\n",
       "</table>\n",
       "<p>5 rows × 53 columns</p>\n",
       "</div>"
      ],
      "text/plain": [
       "  Client_Name  Building   Group    Floor           Date-Time       Date  \\\n",
       "0     Office1  IITMRPP1  IITMRP  Floor-3 2021-01-01 08:45:00 2021-01-01   \n",
       "1     Office1  IITMRPP1  IITMRP  Floor-3 2021-01-01 09:00:00 2021-01-01   \n",
       "2     Office1  IITMRPP1  IITMRP  Floor-3 2021-01-01 09:15:00 2021-01-01   \n",
       "3     Office1  IITMRPP1  IITMRP  Floor-3 2021-01-01 09:30:00 2021-01-01   \n",
       "4     Office1  IITMRPP1  IITMRP  Floor-3 2021-01-01 09:45:00 2021-01-01   \n",
       "\n",
       "       Time  vfdbtu  BTU  vfdfilterstatus  ...  vavsettemp_1  vavsettemp_2  \\\n",
       "0  08:45:00  556316    0                0  ...          23.0            23   \n",
       "1  09:00:00  556316    0                0  ...          23.0            23   \n",
       "2  09:15:00  556318    2                0  ...          23.0            23   \n",
       "3  09:30:00  556329   11                0  ...          23.0            23   \n",
       "4  09:45:00  556341   12                0  ...          23.0            23   \n",
       "\n",
       "   vavsettemp_3  vavstatus_1  vavstatus_2 vavstatus_3 vavsettempsource_1  \\\n",
       "0            23           ON           ON          ON           No input   \n",
       "1            23          OFF           ON          ON           No input   \n",
       "2            23          OFF           ON          ON           No input   \n",
       "3            23          OFF           ON          ON           No input   \n",
       "4            23          OFF           ON          ON           No input   \n",
       "\n",
       "   vavsettempsource_2  vavsettempsource_3 Month  \n",
       "0            No input            No input     1  \n",
       "1            No input            No input     1  \n",
       "2            No input            No input     1  \n",
       "3            No input            No input     1  \n",
       "4            No input            No input     1  \n",
       "\n",
       "[5 rows x 53 columns]"
      ]
     },
     "execution_count": 68,
     "metadata": {},
     "output_type": "execute_result"
    }
   ],
   "source": [
    "df.head()"
   ]
  },
  {
   "cell_type": "code",
   "execution_count": 69,
   "metadata": {},
   "outputs": [],
   "source": [
    "dmap = {1:'January',2:'February'}"
   ]
  },
  {
   "cell_type": "code",
   "execution_count": 70,
   "metadata": {},
   "outputs": [],
   "source": [
    "df['Month']=df['Month'].map(dmap)"
   ]
  },
  {
   "cell_type": "code",
   "execution_count": 71,
   "metadata": {},
   "outputs": [
    {
     "data": {
      "text/html": [
       "<div>\n",
       "<style scoped>\n",
       "    .dataframe tbody tr th:only-of-type {\n",
       "        vertical-align: middle;\n",
       "    }\n",
       "\n",
       "    .dataframe tbody tr th {\n",
       "        vertical-align: top;\n",
       "    }\n",
       "\n",
       "    .dataframe thead th {\n",
       "        text-align: right;\n",
       "    }\n",
       "</style>\n",
       "<table border=\"1\" class=\"dataframe\">\n",
       "  <thead>\n",
       "    <tr style=\"text-align: right;\">\n",
       "      <th></th>\n",
       "      <th>Client_Name</th>\n",
       "      <th>Building</th>\n",
       "      <th>Group</th>\n",
       "      <th>Floor</th>\n",
       "      <th>Date-Time</th>\n",
       "      <th>Date</th>\n",
       "      <th>Time</th>\n",
       "      <th>vfdbtu</th>\n",
       "      <th>BTU</th>\n",
       "      <th>vfdfilterstatus</th>\n",
       "      <th>...</th>\n",
       "      <th>vavsettemp_1</th>\n",
       "      <th>vavsettemp_2</th>\n",
       "      <th>vavsettemp_3</th>\n",
       "      <th>vavstatus_1</th>\n",
       "      <th>vavstatus_2</th>\n",
       "      <th>vavstatus_3</th>\n",
       "      <th>vavsettempsource_1</th>\n",
       "      <th>vavsettempsource_2</th>\n",
       "      <th>vavsettempsource_3</th>\n",
       "      <th>Month</th>\n",
       "    </tr>\n",
       "  </thead>\n",
       "  <tbody>\n",
       "    <tr>\n",
       "      <th>0</th>\n",
       "      <td>Office1</td>\n",
       "      <td>IITMRPP1</td>\n",
       "      <td>IITMRP</td>\n",
       "      <td>Floor-3</td>\n",
       "      <td>2021-01-01 08:45:00</td>\n",
       "      <td>2021-01-01</td>\n",
       "      <td>08:45:00</td>\n",
       "      <td>556316</td>\n",
       "      <td>0</td>\n",
       "      <td>0</td>\n",
       "      <td>...</td>\n",
       "      <td>23.0</td>\n",
       "      <td>23</td>\n",
       "      <td>23</td>\n",
       "      <td>ON</td>\n",
       "      <td>ON</td>\n",
       "      <td>ON</td>\n",
       "      <td>No input</td>\n",
       "      <td>No input</td>\n",
       "      <td>No input</td>\n",
       "      <td>January</td>\n",
       "    </tr>\n",
       "    <tr>\n",
       "      <th>1</th>\n",
       "      <td>Office1</td>\n",
       "      <td>IITMRPP1</td>\n",
       "      <td>IITMRP</td>\n",
       "      <td>Floor-3</td>\n",
       "      <td>2021-01-01 09:00:00</td>\n",
       "      <td>2021-01-01</td>\n",
       "      <td>09:00:00</td>\n",
       "      <td>556316</td>\n",
       "      <td>0</td>\n",
       "      <td>0</td>\n",
       "      <td>...</td>\n",
       "      <td>23.0</td>\n",
       "      <td>23</td>\n",
       "      <td>23</td>\n",
       "      <td>OFF</td>\n",
       "      <td>ON</td>\n",
       "      <td>ON</td>\n",
       "      <td>No input</td>\n",
       "      <td>No input</td>\n",
       "      <td>No input</td>\n",
       "      <td>January</td>\n",
       "    </tr>\n",
       "    <tr>\n",
       "      <th>2</th>\n",
       "      <td>Office1</td>\n",
       "      <td>IITMRPP1</td>\n",
       "      <td>IITMRP</td>\n",
       "      <td>Floor-3</td>\n",
       "      <td>2021-01-01 09:15:00</td>\n",
       "      <td>2021-01-01</td>\n",
       "      <td>09:15:00</td>\n",
       "      <td>556318</td>\n",
       "      <td>2</td>\n",
       "      <td>0</td>\n",
       "      <td>...</td>\n",
       "      <td>23.0</td>\n",
       "      <td>23</td>\n",
       "      <td>23</td>\n",
       "      <td>OFF</td>\n",
       "      <td>ON</td>\n",
       "      <td>ON</td>\n",
       "      <td>No input</td>\n",
       "      <td>No input</td>\n",
       "      <td>No input</td>\n",
       "      <td>January</td>\n",
       "    </tr>\n",
       "    <tr>\n",
       "      <th>3</th>\n",
       "      <td>Office1</td>\n",
       "      <td>IITMRPP1</td>\n",
       "      <td>IITMRP</td>\n",
       "      <td>Floor-3</td>\n",
       "      <td>2021-01-01 09:30:00</td>\n",
       "      <td>2021-01-01</td>\n",
       "      <td>09:30:00</td>\n",
       "      <td>556329</td>\n",
       "      <td>11</td>\n",
       "      <td>0</td>\n",
       "      <td>...</td>\n",
       "      <td>23.0</td>\n",
       "      <td>23</td>\n",
       "      <td>23</td>\n",
       "      <td>OFF</td>\n",
       "      <td>ON</td>\n",
       "      <td>ON</td>\n",
       "      <td>No input</td>\n",
       "      <td>No input</td>\n",
       "      <td>No input</td>\n",
       "      <td>January</td>\n",
       "    </tr>\n",
       "    <tr>\n",
       "      <th>4</th>\n",
       "      <td>Office1</td>\n",
       "      <td>IITMRPP1</td>\n",
       "      <td>IITMRP</td>\n",
       "      <td>Floor-3</td>\n",
       "      <td>2021-01-01 09:45:00</td>\n",
       "      <td>2021-01-01</td>\n",
       "      <td>09:45:00</td>\n",
       "      <td>556341</td>\n",
       "      <td>12</td>\n",
       "      <td>0</td>\n",
       "      <td>...</td>\n",
       "      <td>23.0</td>\n",
       "      <td>23</td>\n",
       "      <td>23</td>\n",
       "      <td>OFF</td>\n",
       "      <td>ON</td>\n",
       "      <td>ON</td>\n",
       "      <td>No input</td>\n",
       "      <td>No input</td>\n",
       "      <td>No input</td>\n",
       "      <td>January</td>\n",
       "    </tr>\n",
       "  </tbody>\n",
       "</table>\n",
       "<p>5 rows × 53 columns</p>\n",
       "</div>"
      ],
      "text/plain": [
       "  Client_Name  Building   Group    Floor           Date-Time       Date  \\\n",
       "0     Office1  IITMRPP1  IITMRP  Floor-3 2021-01-01 08:45:00 2021-01-01   \n",
       "1     Office1  IITMRPP1  IITMRP  Floor-3 2021-01-01 09:00:00 2021-01-01   \n",
       "2     Office1  IITMRPP1  IITMRP  Floor-3 2021-01-01 09:15:00 2021-01-01   \n",
       "3     Office1  IITMRPP1  IITMRP  Floor-3 2021-01-01 09:30:00 2021-01-01   \n",
       "4     Office1  IITMRPP1  IITMRP  Floor-3 2021-01-01 09:45:00 2021-01-01   \n",
       "\n",
       "       Time  vfdbtu  BTU  vfdfilterstatus  ...  vavsettemp_1  vavsettemp_2  \\\n",
       "0  08:45:00  556316    0                0  ...          23.0            23   \n",
       "1  09:00:00  556316    0                0  ...          23.0            23   \n",
       "2  09:15:00  556318    2                0  ...          23.0            23   \n",
       "3  09:30:00  556329   11                0  ...          23.0            23   \n",
       "4  09:45:00  556341   12                0  ...          23.0            23   \n",
       "\n",
       "   vavsettemp_3  vavstatus_1  vavstatus_2 vavstatus_3 vavsettempsource_1  \\\n",
       "0            23           ON           ON          ON           No input   \n",
       "1            23          OFF           ON          ON           No input   \n",
       "2            23          OFF           ON          ON           No input   \n",
       "3            23          OFF           ON          ON           No input   \n",
       "4            23          OFF           ON          ON           No input   \n",
       "\n",
       "   vavsettempsource_2  vavsettempsource_3    Month  \n",
       "0            No input            No input  January  \n",
       "1            No input            No input  January  \n",
       "2            No input            No input  January  \n",
       "3            No input            No input  January  \n",
       "4            No input            No input  January  \n",
       "\n",
       "[5 rows x 53 columns]"
      ]
     },
     "execution_count": 71,
     "metadata": {},
     "output_type": "execute_result"
    }
   ],
   "source": [
    "df.head()"
   ]
  },
  {
   "cell_type": "code",
   "execution_count": 72,
   "metadata": {},
   "outputs": [
    {
     "data": {
      "text/plain": [
       "January     1271\n",
       "February    1019\n",
       "Name: Month, dtype: int64"
      ]
     },
     "execution_count": 72,
     "metadata": {},
     "output_type": "execute_result"
    }
   ],
   "source": [
    "df['Month'].value_counts()"
   ]
  },
  {
   "cell_type": "markdown",
   "metadata": {},
   "source": [
    "# vavstatus_1"
   ]
  },
  {
   "cell_type": "code",
   "execution_count": 73,
   "metadata": {},
   "outputs": [
    {
     "data": {
      "text/plain": [
       "Text(0.5, 1.0, 'vavstatus_1')"
      ]
     },
     "execution_count": 73,
     "metadata": {},
     "output_type": "execute_result"
    },
    {
     "data": {
      "image/png": "[encoded data removed]",
      "text/plain": [
       "<Figure size 432x288 with 1 Axes>"
      ]
     },
     "metadata": {
      "needs_background": "light"
     },
     "output_type": "display_data"
    }
   ],
   "source": [
    "sns.countplot(x='Month',data=df,hue='vavstatus_1')\n",
    "plt.title('vavstatus_1')"
   ]
  },
  {
   "cell_type": "code",
   "execution_count": 74,
   "metadata": {},
   "outputs": [
    {
     "data": {
      "text/plain": [
       "Month     vavstatus_1\n",
       "February  OFF             854\n",
       "          ON              165\n",
       "January   OFF            1117\n",
       "          ON              154\n",
       "Name: vavstatus_1, dtype: int64"
      ]
     },
     "execution_count": 74,
     "metadata": {},
     "output_type": "execute_result"
    }
   ],
   "source": [
    "df.groupby('Month')['vavstatus_1'].value_counts()"
   ]
  },
  {
   "cell_type": "markdown",
   "metadata": {},
   "source": [
    "# vavstatus_2"
   ]
  },
  {
   "cell_type": "code",
   "execution_count": 75,
   "metadata": {},
   "outputs": [
    {
     "data": {
      "text/plain": [
       "Text(0.5, 1.0, 'vavstatus_2')"
      ]
     },
     "execution_count": 75,
     "metadata": {},
     "output_type": "execute_result"
    },
    {
     "data": {
      "image/png": "[encoded data removed]",
      "text/plain": [
       "<Figure size 432x288 with 1 Axes>"
      ]
     },
     "metadata": {
      "needs_background": "light"
     },
     "output_type": "display_data"
    }
   ],
   "source": [
    "sns.countplot(x='Month',data=df,hue='vavstatus_2')\n",
    "plt.title('vavstatus_2')"
   ]
  },
  {
   "cell_type": "code",
   "execution_count": 76,
   "metadata": {},
   "outputs": [
    {
     "data": {
      "text/plain": [
       "Month     vavstatus_2\n",
       "February  ON             946\n",
       "          OFF             73\n",
       "January   ON             983\n",
       "          OFF            288\n",
       "Name: vavstatus_2, dtype: int64"
      ]
     },
     "execution_count": 76,
     "metadata": {},
     "output_type": "execute_result"
    }
   ],
   "source": [
    "df.groupby('Month')['vavstatus_2'].value_counts()"
   ]
  },
  {
   "cell_type": "markdown",
   "metadata": {},
   "source": [
    "# vavstatus_3"
   ]
  },
  {
   "cell_type": "code",
   "execution_count": 77,
   "metadata": {},
   "outputs": [
    {
     "data": {
      "text/plain": [
       "Text(0.5, 1.0, 'vavstatus_3')"
      ]
     },
     "execution_count": 77,
     "metadata": {},
     "output_type": "execute_result"
    },
    {
     "data": {
      "image/png": "[encoded data removed]",
      "text/plain": [
       "<Figure size 432x288 with 1 Axes>"
      ]
     },
     "metadata": {
      "needs_background": "light"
     },
     "output_type": "display_data"
    }
   ],
   "source": [
    "sns.countplot(x='Month',data=df,hue='vavstatus_3')\n",
    "plt.title('vavstatus_3')"
   ]
  },
  {
   "cell_type": "code",
   "execution_count": 78,
   "metadata": {},
   "outputs": [
    {
     "data": {
      "text/plain": [
       "Month     vavstatus_3\n",
       "February  ON             934\n",
       "          OFF             85\n",
       "January   ON             879\n",
       "          OFF            392\n",
       "Name: vavstatus_3, dtype: int64"
      ]
     },
     "execution_count": 78,
     "metadata": {},
     "output_type": "execute_result"
    }
   ],
   "source": [
    "df.groupby('Month')['vavstatus_3'].value_counts()"
   ]
  },
  {
   "cell_type": "markdown",
   "metadata": {},
   "source": [
    "# vavsettempsource_1"
   ]
  },
  {
   "cell_type": "code",
   "execution_count": 79,
   "metadata": {},
   "outputs": [
    {
     "data": {
      "text/plain": [
       "<matplotlib.legend.Legend at 0x159576ada48>"
      ]
     },
     "execution_count": 79,
     "metadata": {},
     "output_type": "execute_result"
    },
    {
     "data": {
      "image/png": "[encoded data removed]",
      "text/plain": [
       "<Figure size 432x288 with 1 Axes>"
      ]
     },
     "metadata": {
      "needs_background": "light"
     },
     "output_type": "display_data"
    }
   ],
   "source": [
    "sns.countplot(x='Month',data=df,hue='vavsettempsource_1')\n",
    "plt.title('vavsettempsource_1')\n",
    "plt.legend(loc='upper right')"
   ]
  },
  {
   "cell_type": "code",
   "execution_count": 80,
   "metadata": {},
   "outputs": [
    {
     "data": {
      "text/plain": [
       "Month     vavsettempsource_1\n",
       "February  No input              1019\n",
       "January   No input               981\n",
       "          Set By Button          290\n",
       "Name: vavsettempsource_1, dtype: int64"
      ]
     },
     "execution_count": 80,
     "metadata": {},
     "output_type": "execute_result"
    }
   ],
   "source": [
    "df.groupby('Month')['vavsettempsource_1'].value_counts()"
   ]
  },
  {
   "cell_type": "markdown",
   "metadata": {},
   "source": [
    "# vavsettempsource_2"
   ]
  },
  {
   "cell_type": "code",
   "execution_count": 81,
   "metadata": {},
   "outputs": [
    {
     "data": {
      "text/plain": [
       "<matplotlib.legend.Legend at 0x15957710888>"
      ]
     },
     "execution_count": 81,
     "metadata": {},
     "output_type": "execute_result"
    },
    {
     "data": {
      "image/png": "[encoded data removed]",
      "text/plain": [
       "<Figure size 432x288 with 1 Axes>"
      ]
     },
     "metadata": {
      "needs_background": "light"
     },
     "output_type": "display_data"
    }
   ],
   "source": [
    "sns.countplot(x='Month',data=df,hue='vavsettempsource_2')\n",
    "plt.title('vavsettempsource_2')\n",
    "plt.legend(loc='upper right')"
   ]
  },
  {
   "cell_type": "code",
   "execution_count": 82,
   "metadata": {},
   "outputs": [
    {
     "data": {
      "text/plain": [
       "Month     vavsettempsource_2\n",
       "February  No input              945\n",
       "          Set By Button          74\n",
       "January   No input              985\n",
       "          Set By Button         163\n",
       "          Set By Remote         123\n",
       "Name: vavsettempsource_2, dtype: int64"
      ]
     },
     "execution_count": 82,
     "metadata": {},
     "output_type": "execute_result"
    }
   ],
   "source": [
    "df.groupby('Month')['vavsettempsource_2'].value_counts()"
   ]
  },
  {
   "cell_type": "markdown",
   "metadata": {},
   "source": [
    "# vavsettempsource_3"
   ]
  },
  {
   "cell_type": "code",
   "execution_count": 83,
   "metadata": {},
   "outputs": [
    {
     "data": {
      "text/plain": [
       "<matplotlib.legend.Legend at 0x159577e58c8>"
      ]
     },
     "execution_count": 83,
     "metadata": {},
     "output_type": "execute_result"
    },
    {
     "data": {
      "image/png": "[encoded data removed]",
      "text/plain": [
       "<Figure size 432x288 with 1 Axes>"
      ]
     },
     "metadata": {
      "needs_background": "light"
     },
     "output_type": "display_data"
    }
   ],
   "source": [
    "sns.countplot(x='Month',data=df,hue='vavsettempsource_3')\n",
    "plt.title('vavsettempsource_3')\n",
    "plt.legend(loc='upper right')"
   ]
  },
  {
   "cell_type": "code",
   "execution_count": 84,
   "metadata": {},
   "outputs": [
    {
     "data": {
      "text/plain": [
       "Month     vavsettempsource_3\n",
       "February  No input              1019\n",
       "January   No input              1271\n",
       "Name: vavsettempsource_3, dtype: int64"
      ]
     },
     "execution_count": 84,
     "metadata": {},
     "output_type": "execute_result"
    }
   ],
   "source": [
    "df.groupby('Month')['vavsettempsource_3'].value_counts()"
   ]
  },
  {
   "cell_type": "markdown",
   "metadata": {},
   "source": [
    "# AUTOMATION"
   ]
  },
  {
   "cell_type": "markdown",
   "metadata": {},
   "source": [
    "# VAV ON/OFF Source-1"
   ]
  },
  {
   "cell_type": "code",
   "execution_count": 85,
   "metadata": {},
   "outputs": [
    {
     "data": {
      "text/plain": [
       "<matplotlib.legend.Legend at 0x1595784b748>"
      ]
     },
     "execution_count": 85,
     "metadata": {},
     "output_type": "execute_result"
    },
    {
     "data": {
      "image/png": "[encoded data removed]",
      "text/plain": [
       "<Figure size 432x288 with 1 Axes>"
      ]
     },
     "metadata": {
      "needs_background": "light"
     },
     "output_type": "display_data"
    }
   ],
   "source": [
    "sns.countplot(x='Month',data=df,hue='vavonoffsource_1')\n",
    "plt.title('vavonoffsource_1')\n",
    "plt.legend(loc='upper right')"
   ]
  },
  {
   "cell_type": "code",
   "execution_count": 86,
   "metadata": {},
   "outputs": [
    {
     "data": {
      "text/plain": [
       "Month     vavonoffsource_1\n",
       "February  OFF By PIR          721\n",
       "          ON By PIR           165\n",
       "          OFF By Button       113\n",
       "          ON By power ON       20\n",
       "January   OFF By PIR          804\n",
       "          OFF By Button       262\n",
       "          ON By PIR           148\n",
       "          ON By power ON       51\n",
       "          ON By Button          6\n",
       "Name: vavonoffsource_1, dtype: int64"
      ]
     },
     "execution_count": 86,
     "metadata": {},
     "output_type": "execute_result"
    }
   ],
   "source": [
    "df.groupby('Month')['vavonoffsource_1'].value_counts()"
   ]
  },
  {
   "cell_type": "markdown",
   "metadata": {},
   "source": [
    "# VAV ON/OFF Source-2"
   ]
  },
  {
   "cell_type": "code",
   "execution_count": 87,
   "metadata": {},
   "outputs": [
    {
     "data": {
      "text/plain": [
       "<matplotlib.legend.Legend at 0x15957730888>"
      ]
     },
     "execution_count": 87,
     "metadata": {},
     "output_type": "execute_result"
    },
    {
     "data": {
      "image/png": "[encoded data removed]",
      "text/plain": [
       "<Figure size 432x288 with 1 Axes>"
      ]
     },
     "metadata": {
      "needs_background": "light"
     },
     "output_type": "display_data"
    }
   ],
   "source": [
    "sns.countplot(x='Month',data=df,hue='vavonoffsource_2')\n",
    "plt.title('vavonoffsource_2')\n",
    "plt.legend(loc='upper right')"
   ]
  },
  {
   "cell_type": "code",
   "execution_count": 88,
   "metadata": {},
   "outputs": [
    {
     "data": {
      "text/plain": [
       "Month     vavonoffsource_2\n",
       "February  ON By PIR           844\n",
       "          ON By Button        100\n",
       "          OFF By Button        73\n",
       "          ON By power ON        2\n",
       "January   ON By PIR           971\n",
       "          OFF By Button       288\n",
       "          ON By Button          6\n",
       "          ON By Remote          5\n",
       "          ON By power ON        1\n",
       "Name: vavonoffsource_2, dtype: int64"
      ]
     },
     "execution_count": 88,
     "metadata": {},
     "output_type": "execute_result"
    }
   ],
   "source": [
    "df.groupby('Month')['vavonoffsource_2'].value_counts()"
   ]
  },
  {
   "cell_type": "markdown",
   "metadata": {},
   "source": [
    "# VAV ON/OFF Source-3"
   ]
  },
  {
   "cell_type": "code",
   "execution_count": 89,
   "metadata": {},
   "outputs": [
    {
     "data": {
      "text/plain": [
       "<matplotlib.legend.Legend at 0x15957950948>"
      ]
     },
     "execution_count": 89,
     "metadata": {},
     "output_type": "execute_result"
    },
    {
     "data": {
      "image/png": "[encoded data removed]",
      "text/plain": [
       "<Figure size 432x288 with 1 Axes>"
      ]
     },
     "metadata": {
      "needs_background": "light"
     },
     "output_type": "display_data"
    }
   ],
   "source": [
    "sns.countplot(x='Month',data=df,hue='vavonoffsource_3')\n",
    "plt.title('vavonoffsource_3')\n",
    "plt.legend(loc='upper right')"
   ]
  },
  {
   "cell_type": "code",
   "execution_count": 90,
   "metadata": {},
   "outputs": [
    {
     "data": {
      "text/plain": [
       "Month     vavonoffsource_3\n",
       "February  ON By PIR           634\n",
       "          ON By Remote        299\n",
       "          OFF By PIR           85\n",
       "          ON By power ON        1\n",
       "January   ON By PIR           632\n",
       "          ON By Remote        246\n",
       "          OFF By Remote       204\n",
       "          OFF By PIR          188\n",
       "          ON By power ON        1\n",
       "Name: vavonoffsource_3, dtype: int64"
      ]
     },
     "execution_count": 90,
     "metadata": {},
     "output_type": "execute_result"
    }
   ],
   "source": [
    "df.groupby('Month')['vavonoffsource_3'].value_counts()"
   ]
  },
  {
   "cell_type": "code",
   "execution_count": 91,
   "metadata": {},
   "outputs": [],
   "source": [
    "df['Hour']=df['Date-Time'].apply(lambda time:time.hour)"
   ]
  },
  {
   "cell_type": "code",
   "execution_count": 92,
   "metadata": {},
   "outputs": [],
   "source": [
    "df['Minute']=df['Date-Time'].apply(lambda time:time.minute)"
   ]
  },
  {
   "cell_type": "code",
   "execution_count": 93,
   "metadata": {},
   "outputs": [
    {
     "data": {
      "text/html": [
       "<div>\n",
       "<style scoped>\n",
       "    .dataframe tbody tr th:only-of-type {\n",
       "        vertical-align: middle;\n",
       "    }\n",
       "\n",
       "    .dataframe tbody tr th {\n",
       "        vertical-align: top;\n",
       "    }\n",
       "\n",
       "    .dataframe thead th {\n",
       "        text-align: right;\n",
       "    }\n",
       "</style>\n",
       "<table border=\"1\" class=\"dataframe\">\n",
       "  <thead>\n",
       "    <tr style=\"text-align: right;\">\n",
       "      <th></th>\n",
       "      <th>Client_Name</th>\n",
       "      <th>Building</th>\n",
       "      <th>Group</th>\n",
       "      <th>Floor</th>\n",
       "      <th>Date-Time</th>\n",
       "      <th>Date</th>\n",
       "      <th>Time</th>\n",
       "      <th>vfdbtu</th>\n",
       "      <th>BTU</th>\n",
       "      <th>vfdfilterstatus</th>\n",
       "      <th>...</th>\n",
       "      <th>vavsettemp_3</th>\n",
       "      <th>vavstatus_1</th>\n",
       "      <th>vavstatus_2</th>\n",
       "      <th>vavstatus_3</th>\n",
       "      <th>vavsettempsource_1</th>\n",
       "      <th>vavsettempsource_2</th>\n",
       "      <th>vavsettempsource_3</th>\n",
       "      <th>Month</th>\n",
       "      <th>Hour</th>\n",
       "      <th>Minute</th>\n",
       "    </tr>\n",
       "  </thead>\n",
       "  <tbody>\n",
       "    <tr>\n",
       "      <th>0</th>\n",
       "      <td>Office1</td>\n",
       "      <td>IITMRPP1</td>\n",
       "      <td>IITMRP</td>\n",
       "      <td>Floor-3</td>\n",
       "      <td>2021-01-01 08:45:00</td>\n",
       "      <td>2021-01-01</td>\n",
       "      <td>08:45:00</td>\n",
       "      <td>556316</td>\n",
       "      <td>0</td>\n",
       "      <td>0</td>\n",
       "      <td>...</td>\n",
       "      <td>23</td>\n",
       "      <td>ON</td>\n",
       "      <td>ON</td>\n",
       "      <td>ON</td>\n",
       "      <td>No input</td>\n",
       "      <td>No input</td>\n",
       "      <td>No input</td>\n",
       "      <td>January</td>\n",
       "      <td>8</td>\n",
       "      <td>45</td>\n",
       "    </tr>\n",
       "    <tr>\n",
       "      <th>1</th>\n",
       "      <td>Office1</td>\n",
       "      <td>IITMRPP1</td>\n",
       "      <td>IITMRP</td>\n",
       "      <td>Floor-3</td>\n",
       "      <td>2021-01-01 09:00:00</td>\n",
       "      <td>2021-01-01</td>\n",
       "      <td>09:00:00</td>\n",
       "      <td>556316</td>\n",
       "      <td>0</td>\n",
       "      <td>0</td>\n",
       "      <td>...</td>\n",
       "      <td>23</td>\n",
       "      <td>OFF</td>\n",
       "      <td>ON</td>\n",
       "      <td>ON</td>\n",
       "      <td>No input</td>\n",
       "      <td>No input</td>\n",
       "      <td>No input</td>\n",
       "      <td>January</td>\n",
       "      <td>9</td>\n",
       "      <td>0</td>\n",
       "    </tr>\n",
       "    <tr>\n",
       "      <th>2</th>\n",
       "      <td>Office1</td>\n",
       "      <td>IITMRPP1</td>\n",
       "      <td>IITMRP</td>\n",
       "      <td>Floor-3</td>\n",
       "      <td>2021-01-01 09:15:00</td>\n",
       "      <td>2021-01-01</td>\n",
       "      <td>09:15:00</td>\n",
       "      <td>556318</td>\n",
       "      <td>2</td>\n",
       "      <td>0</td>\n",
       "      <td>...</td>\n",
       "      <td>23</td>\n",
       "      <td>OFF</td>\n",
       "      <td>ON</td>\n",
       "      <td>ON</td>\n",
       "      <td>No input</td>\n",
       "      <td>No input</td>\n",
       "      <td>No input</td>\n",
       "      <td>January</td>\n",
       "      <td>9</td>\n",
       "      <td>15</td>\n",
       "    </tr>\n",
       "    <tr>\n",
       "      <th>3</th>\n",
       "      <td>Office1</td>\n",
       "      <td>IITMRPP1</td>\n",
       "      <td>IITMRP</td>\n",
       "      <td>Floor-3</td>\n",
       "      <td>2021-01-01 09:30:00</td>\n",
       "      <td>2021-01-01</td>\n",
       "      <td>09:30:00</td>\n",
       "      <td>556329</td>\n",
       "      <td>11</td>\n",
       "      <td>0</td>\n",
       "      <td>...</td>\n",
       "      <td>23</td>\n",
       "      <td>OFF</td>\n",
       "      <td>ON</td>\n",
       "      <td>ON</td>\n",
       "      <td>No input</td>\n",
       "      <td>No input</td>\n",
       "      <td>No input</td>\n",
       "      <td>January</td>\n",
       "      <td>9</td>\n",
       "      <td>30</td>\n",
       "    </tr>\n",
       "    <tr>\n",
       "      <th>4</th>\n",
       "      <td>Office1</td>\n",
       "      <td>IITMRPP1</td>\n",
       "      <td>IITMRP</td>\n",
       "      <td>Floor-3</td>\n",
       "      <td>2021-01-01 09:45:00</td>\n",
       "      <td>2021-01-01</td>\n",
       "      <td>09:45:00</td>\n",
       "      <td>556341</td>\n",
       "      <td>12</td>\n",
       "      <td>0</td>\n",
       "      <td>...</td>\n",
       "      <td>23</td>\n",
       "      <td>OFF</td>\n",
       "      <td>ON</td>\n",
       "      <td>ON</td>\n",
       "      <td>No input</td>\n",
       "      <td>No input</td>\n",
       "      <td>No input</td>\n",
       "      <td>January</td>\n",
       "      <td>9</td>\n",
       "      <td>45</td>\n",
       "    </tr>\n",
       "  </tbody>\n",
       "</table>\n",
       "<p>5 rows × 55 columns</p>\n",
       "</div>"
      ],
      "text/plain": [
       "  Client_Name  Building   Group    Floor           Date-Time       Date  \\\n",
       "0     Office1  IITMRPP1  IITMRP  Floor-3 2021-01-01 08:45:00 2021-01-01   \n",
       "1     Office1  IITMRPP1  IITMRP  Floor-3 2021-01-01 09:00:00 2021-01-01   \n",
       "2     Office1  IITMRPP1  IITMRP  Floor-3 2021-01-01 09:15:00 2021-01-01   \n",
       "3     Office1  IITMRPP1  IITMRP  Floor-3 2021-01-01 09:30:00 2021-01-01   \n",
       "4     Office1  IITMRPP1  IITMRP  Floor-3 2021-01-01 09:45:00 2021-01-01   \n",
       "\n",
       "       Time  vfdbtu  BTU  vfdfilterstatus  ...  vavsettemp_3  vavstatus_1  \\\n",
       "0  08:45:00  556316    0                0  ...            23           ON   \n",
       "1  09:00:00  556316    0                0  ...            23          OFF   \n",
       "2  09:15:00  556318    2                0  ...            23          OFF   \n",
       "3  09:30:00  556329   11                0  ...            23          OFF   \n",
       "4  09:45:00  556341   12                0  ...            23          OFF   \n",
       "\n",
       "   vavstatus_2  vavstatus_3  vavsettempsource_1 vavsettempsource_2  \\\n",
       "0           ON           ON            No input           No input   \n",
       "1           ON           ON            No input           No input   \n",
       "2           ON           ON            No input           No input   \n",
       "3           ON           ON            No input           No input   \n",
       "4           ON           ON            No input           No input   \n",
       "\n",
       "  vavsettempsource_3    Month  Hour Minute  \n",
       "0           No input  January     8     45  \n",
       "1           No input  January     9      0  \n",
       "2           No input  January     9     15  \n",
       "3           No input  January     9     30  \n",
       "4           No input  January     9     45  \n",
       "\n",
       "[5 rows x 55 columns]"
      ]
     },
     "execution_count": 93,
     "metadata": {},
     "output_type": "execute_result"
    }
   ],
   "source": [
    "df.head()"
   ]
  },
  {
   "cell_type": "code",
   "execution_count": 94,
   "metadata": {},
   "outputs": [
    {
     "data": {
      "text/plain": [
       "28824"
      ]
     },
     "execution_count": 94,
     "metadata": {},
     "output_type": "execute_result"
    }
   ],
   "source": [
    "df['Hour'].sum()"
   ]
  },
  {
   "cell_type": "code",
   "execution_count": 95,
   "metadata": {},
   "outputs": [],
   "source": [
    "df['Minute/Hour']=df['Minute']/60"
   ]
  },
  {
   "cell_type": "code",
   "execution_count": 96,
   "metadata": {},
   "outputs": [],
   "source": [
    "df['Total_Hour']=df['Hour']+df['Minute/Hour']"
   ]
  },
  {
   "cell_type": "code",
   "execution_count": 97,
   "metadata": {},
   "outputs": [
    {
     "data": {
      "text/html": [
       "<div>\n",
       "<style scoped>\n",
       "    .dataframe tbody tr th:only-of-type {\n",
       "        vertical-align: middle;\n",
       "    }\n",
       "\n",
       "    .dataframe tbody tr th {\n",
       "        vertical-align: top;\n",
       "    }\n",
       "\n",
       "    .dataframe thead th {\n",
       "        text-align: right;\n",
       "    }\n",
       "</style>\n",
       "<table border=\"1\" class=\"dataframe\">\n",
       "  <thead>\n",
       "    <tr style=\"text-align: right;\">\n",
       "      <th></th>\n",
       "      <th>Client_Name</th>\n",
       "      <th>Building</th>\n",
       "      <th>Group</th>\n",
       "      <th>Floor</th>\n",
       "      <th>Date-Time</th>\n",
       "      <th>Date</th>\n",
       "      <th>Time</th>\n",
       "      <th>vfdbtu</th>\n",
       "      <th>BTU</th>\n",
       "      <th>vfdfilterstatus</th>\n",
       "      <th>...</th>\n",
       "      <th>vavstatus_2</th>\n",
       "      <th>vavstatus_3</th>\n",
       "      <th>vavsettempsource_1</th>\n",
       "      <th>vavsettempsource_2</th>\n",
       "      <th>vavsettempsource_3</th>\n",
       "      <th>Month</th>\n",
       "      <th>Hour</th>\n",
       "      <th>Minute</th>\n",
       "      <th>Minute/Hour</th>\n",
       "      <th>Total_Hour</th>\n",
       "    </tr>\n",
       "  </thead>\n",
       "  <tbody>\n",
       "    <tr>\n",
       "      <th>0</th>\n",
       "      <td>Office1</td>\n",
       "      <td>IITMRPP1</td>\n",
       "      <td>IITMRP</td>\n",
       "      <td>Floor-3</td>\n",
       "      <td>2021-01-01 08:45:00</td>\n",
       "      <td>2021-01-01</td>\n",
       "      <td>08:45:00</td>\n",
       "      <td>556316</td>\n",
       "      <td>0</td>\n",
       "      <td>0</td>\n",
       "      <td>...</td>\n",
       "      <td>ON</td>\n",
       "      <td>ON</td>\n",
       "      <td>No input</td>\n",
       "      <td>No input</td>\n",
       "      <td>No input</td>\n",
       "      <td>January</td>\n",
       "      <td>8</td>\n",
       "      <td>45</td>\n",
       "      <td>0.75</td>\n",
       "      <td>8.75</td>\n",
       "    </tr>\n",
       "    <tr>\n",
       "      <th>1</th>\n",
       "      <td>Office1</td>\n",
       "      <td>IITMRPP1</td>\n",
       "      <td>IITMRP</td>\n",
       "      <td>Floor-3</td>\n",
       "      <td>2021-01-01 09:00:00</td>\n",
       "      <td>2021-01-01</td>\n",
       "      <td>09:00:00</td>\n",
       "      <td>556316</td>\n",
       "      <td>0</td>\n",
       "      <td>0</td>\n",
       "      <td>...</td>\n",
       "      <td>ON</td>\n",
       "      <td>ON</td>\n",
       "      <td>No input</td>\n",
       "      <td>No input</td>\n",
       "      <td>No input</td>\n",
       "      <td>January</td>\n",
       "      <td>9</td>\n",
       "      <td>0</td>\n",
       "      <td>0.00</td>\n",
       "      <td>9.00</td>\n",
       "    </tr>\n",
       "    <tr>\n",
       "      <th>2</th>\n",
       "      <td>Office1</td>\n",
       "      <td>IITMRPP1</td>\n",
       "      <td>IITMRP</td>\n",
       "      <td>Floor-3</td>\n",
       "      <td>2021-01-01 09:15:00</td>\n",
       "      <td>2021-01-01</td>\n",
       "      <td>09:15:00</td>\n",
       "      <td>556318</td>\n",
       "      <td>2</td>\n",
       "      <td>0</td>\n",
       "      <td>...</td>\n",
       "      <td>ON</td>\n",
       "      <td>ON</td>\n",
       "      <td>No input</td>\n",
       "      <td>No input</td>\n",
       "      <td>No input</td>\n",
       "      <td>January</td>\n",
       "      <td>9</td>\n",
       "      <td>15</td>\n",
       "      <td>0.25</td>\n",
       "      <td>9.25</td>\n",
       "    </tr>\n",
       "    <tr>\n",
       "      <th>3</th>\n",
       "      <td>Office1</td>\n",
       "      <td>IITMRPP1</td>\n",
       "      <td>IITMRP</td>\n",
       "      <td>Floor-3</td>\n",
       "      <td>2021-01-01 09:30:00</td>\n",
       "      <td>2021-01-01</td>\n",
       "      <td>09:30:00</td>\n",
       "      <td>556329</td>\n",
       "      <td>11</td>\n",
       "      <td>0</td>\n",
       "      <td>...</td>\n",
       "      <td>ON</td>\n",
       "      <td>ON</td>\n",
       "      <td>No input</td>\n",
       "      <td>No input</td>\n",
       "      <td>No input</td>\n",
       "      <td>January</td>\n",
       "      <td>9</td>\n",
       "      <td>30</td>\n",
       "      <td>0.50</td>\n",
       "      <td>9.50</td>\n",
       "    </tr>\n",
       "    <tr>\n",
       "      <th>4</th>\n",
       "      <td>Office1</td>\n",
       "      <td>IITMRPP1</td>\n",
       "      <td>IITMRP</td>\n",
       "      <td>Floor-3</td>\n",
       "      <td>2021-01-01 09:45:00</td>\n",
       "      <td>2021-01-01</td>\n",
       "      <td>09:45:00</td>\n",
       "      <td>556341</td>\n",
       "      <td>12</td>\n",
       "      <td>0</td>\n",
       "      <td>...</td>\n",
       "      <td>ON</td>\n",
       "      <td>ON</td>\n",
       "      <td>No input</td>\n",
       "      <td>No input</td>\n",
       "      <td>No input</td>\n",
       "      <td>January</td>\n",
       "      <td>9</td>\n",
       "      <td>45</td>\n",
       "      <td>0.75</td>\n",
       "      <td>9.75</td>\n",
       "    </tr>\n",
       "  </tbody>\n",
       "</table>\n",
       "<p>5 rows × 57 columns</p>\n",
       "</div>"
      ],
      "text/plain": [
       "  Client_Name  Building   Group    Floor           Date-Time       Date  \\\n",
       "0     Office1  IITMRPP1  IITMRP  Floor-3 2021-01-01 08:45:00 2021-01-01   \n",
       "1     Office1  IITMRPP1  IITMRP  Floor-3 2021-01-01 09:00:00 2021-01-01   \n",
       "2     Office1  IITMRPP1  IITMRP  Floor-3 2021-01-01 09:15:00 2021-01-01   \n",
       "3     Office1  IITMRPP1  IITMRP  Floor-3 2021-01-01 09:30:00 2021-01-01   \n",
       "4     Office1  IITMRPP1  IITMRP  Floor-3 2021-01-01 09:45:00 2021-01-01   \n",
       "\n",
       "       Time  vfdbtu  BTU  vfdfilterstatus  ...  vavstatus_2  vavstatus_3  \\\n",
       "0  08:45:00  556316    0                0  ...           ON           ON   \n",
       "1  09:00:00  556316    0                0  ...           ON           ON   \n",
       "2  09:15:00  556318    2                0  ...           ON           ON   \n",
       "3  09:30:00  556329   11                0  ...           ON           ON   \n",
       "4  09:45:00  556341   12                0  ...           ON           ON   \n",
       "\n",
       "   vavsettempsource_1  vavsettempsource_2  vavsettempsource_3    Month Hour  \\\n",
       "0            No input            No input            No input  January    8   \n",
       "1            No input            No input            No input  January    9   \n",
       "2            No input            No input            No input  January    9   \n",
       "3            No input            No input            No input  January    9   \n",
       "4            No input            No input            No input  January    9   \n",
       "\n",
       "   Minute  Minute/Hour Total_Hour  \n",
       "0      45         0.75       8.75  \n",
       "1       0         0.00       9.00  \n",
       "2      15         0.25       9.25  \n",
       "3      30         0.50       9.50  \n",
       "4      45         0.75       9.75  \n",
       "\n",
       "[5 rows x 57 columns]"
      ]
     },
     "execution_count": 97,
     "metadata": {},
     "output_type": "execute_result"
    }
   ],
   "source": [
    "df.head()"
   ]
  },
  {
   "cell_type": "code",
   "execution_count": 98,
   "metadata": {},
   "outputs": [
    {
     "data": {
      "text/plain": [
       "29676.25"
      ]
     },
     "execution_count": 98,
     "metadata": {},
     "output_type": "execute_result"
    }
   ],
   "source": [
    "df['Total_Hour'].sum()"
   ]
  },
  {
   "cell_type": "code",
   "execution_count": 99,
   "metadata": {},
   "outputs": [
    {
     "data": {
      "text/plain": [
       "BMS            1886\n",
       "Auto            390\n",
       "Auto switch      14\n",
       "Name: Mode, dtype: int64"
      ]
     },
     "execution_count": 99,
     "metadata": {},
     "output_type": "execute_result"
    }
   ],
   "source": [
    "df['Mode'].value_counts()"
   ]
  },
  {
   "cell_type": "markdown",
   "metadata": {},
   "source": [
    "# Energy-1\n"
   ]
  },
  {
   "cell_type": "code",
   "execution_count": 100,
   "metadata": {},
   "outputs": [],
   "source": [
    "#Check how many hours VFD is ON apart form scheduled time."
   ]
  },
  {
   "cell_type": "code",
   "execution_count": 101,
   "metadata": {},
   "outputs": [
    {
     "data": {
      "text/plain": [
       "25738.5"
      ]
     },
     "execution_count": 101,
     "metadata": {},
     "output_type": "execute_result"
    }
   ],
   "source": [
    "df[(df['Time']!='08:30:00')&(df['VFD ON/OFF SOURCE']=='Status ON')]['Total_Hour'].sum()"
   ]
  },
  {
   "cell_type": "markdown",
   "metadata": {},
   "source": [
    "# Energy-2"
   ]
  },
  {
   "cell_type": "code",
   "execution_count": 102,
   "metadata": {},
   "outputs": [],
   "source": [
    "#Give the BTU Consumption using the measure in DAX for the month of Jan'21."
   ]
  },
  {
   "cell_type": "code",
   "execution_count": 103,
   "metadata": {},
   "outputs": [
    {
     "data": {
      "text/plain": [
       "9029"
      ]
     },
     "execution_count": 103,
     "metadata": {},
     "output_type": "execute_result"
    }
   ],
   "source": [
    "df[df['Month']=='January']['BTU'].sum()"
   ]
  },
  {
   "cell_type": "markdown",
   "metadata": {},
   "source": [
    "# Energy-3"
   ]
  },
  {
   "cell_type": "code",
   "execution_count": 104,
   "metadata": {},
   "outputs": [],
   "source": [
    "#Total BTU Consumption vs BTU Consumption in BMS Mode in a graph for Jan'21."
   ]
  },
  {
   "cell_type": "code",
   "execution_count": 105,
   "metadata": {},
   "outputs": [
    {
     "data": {
      "text/plain": [
       "9029"
      ]
     },
     "execution_count": 105,
     "metadata": {},
     "output_type": "execute_result"
    }
   ],
   "source": [
    "df[df['Month']=='January']['BTU'].sum()"
   ]
  },
  {
   "cell_type": "code",
   "execution_count": 106,
   "metadata": {},
   "outputs": [
    {
     "data": {
      "text/plain": [
       "5814"
      ]
     },
     "execution_count": 106,
     "metadata": {},
     "output_type": "execute_result"
    }
   ],
   "source": [
    "df[(df['Month']=='January')&(df['Mode']=='BMS')]['BTU'].sum()"
   ]
  },
  {
   "cell_type": "code",
   "execution_count": null,
   "metadata": {},
   "outputs": [],
   "source": []
  }
 ],
 "metadata": {
  "kernelspec": {
   "display_name": "Python 3",
   "language": "python",
   "name": "python3"
  },
  "language_info": {
   "codemirror_mode": {
    "name": "ipython",
    "version": 3
   },
   "file_extension": ".py",
   "mimetype": "text/x-python",
   "name": "python",
   "nbconvert_exporter": "python",
   "pygments_lexer": "ipython3",
   "version": "3.7.6"
  }
 },
 "nbformat": 4,
 "nbformat_minor": 4
}
